{
 "cells": [
  {
   "cell_type": "code",
   "execution_count": null,
   "id": "46d60b6d",
   "metadata": {},
   "outputs": [],
   "source": [
    "import numpy as np\n",
    "import pandas as pd\n",
    "import seaborn as sns\n",
    "import matplotlib.pyplot as plt"
   ]
  },
  {
   "cell_type": "code",
   "execution_count": null,
   "id": "9fc165f1",
   "metadata": {},
   "outputs": [],
   "source": [
    "benin=pd.read_csv(r'C:\\Users\\dell\\Desktop\\LEARN\\kifya ai\\week-0\\data zip\\benin-malanville.csv')"
   ]
  },
  {
   "cell_type": "code",
   "execution_count": null,
   "id": "0316d230",
   "metadata": {},
   "outputs": [],
   "source": [
    "print(benin.describe())\n",
    "print('-----------------------')\n",
    "print(benin.info())\n",
    "print('-----------------------')\n",
    "benin.isna().sum()\n"
   ]
  }
 ],
 "metadata": {
  "kernelspec": {
   "display_name": "Python 3",
   "language": "python",
   "name": "python3"
  },
  "language_info": {
   "codemirror_mode": {
    "name": "ipython",
    "version": 3
   },
   "file_extension": ".py",
   "mimetype": "text/x-python",
   "name": "python",
   "nbconvert_exporter": "python",
   "pygments_lexer": "ipython3",
   "version": "3.11.2"
  }
 },
 "nbformat": 4,
 "nbformat_minor": 5
}
